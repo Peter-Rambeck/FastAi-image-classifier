{
 "cells": [
  {
   "cell_type": "markdown",
   "metadata": {},
   "source": [
    "# Building an image classifier using Fastai V2\n",
    "> Harnessing the power of fastai to build state-of-the-art deep learning models.\n",
    "\n",
    "- toc: true\n",
    "- branch: master\n",
    "- badges: true\n",
    "- comments: true\n",
    "- author: Harish Vadlamani\n",
    "- image: images/ttl_small.png\n",
    "- categories: [Computer Vision, Image Classification]\n"
   ]
  }
